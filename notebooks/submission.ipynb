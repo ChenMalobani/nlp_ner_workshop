{
 "cells": [
  {
   "cell_type": "code",
   "execution_count": null,
   "metadata": {},
   "outputs": [],
   "source": [
    "GOOGLE_COLAB = False\n",
    "if GOOGLE_COLAB:\n",
    "    from google.colab import drive\n",
    "    drive.mount('/content/drive/')\n",
    "    __dir__ = '/content/drive/My Drive/Colab Notebooks/nlp_ner_workshop'\n",
    "else:\n",
    "    from os.path import abspath\n",
    "    __dir__ = abspath(\"../\")"
   ]
  },
  {
   "cell_type": "code",
   "execution_count": null,
   "metadata": {},
   "outputs": [],
   "source": [
    "import collections, json, os\n",
    "import numpy as np\n",
    "from tqdm import tqdm_notebook as tqdm\n",
    "from IPython.core.display import HTML\n",
    "os.chdir(__dir__+'/python')\n",
    "import gorenml"
   ]
  },
  {
   "cell_type": "markdown",
   "metadata": {},
   "source": [
    "## Create submission"
   ]
  },
  {
   "cell_type": "code",
   "execution_count": null,
   "metadata": {},
   "outputs": [],
   "source": [
    "test_submission = gorenml.Submission(\"test\", model_folder='model')"
   ]
  },
  {
   "cell_type": "markdown",
   "metadata": {},
   "source": [
    "## Fit the model\n",
    "We recommend using a gpu machine"
   ]
  },
  {
   "cell_type": "code",
   "execution_count": null,
   "metadata": {},
   "outputs": [],
   "source": [
    "# optional, if a model is not fitted - it is loaded from disk\n",
    "# test_submission.fit(__dir__+'/data/0.zip')"
   ]
  },
  {
   "cell_type": "markdown",
   "metadata": {},
   "source": [
    "## Observe the prediction"
   ]
  },
  {
   "cell_type": "code",
   "execution_count": null,
   "metadata": {},
   "outputs": [],
   "source": [
    "txt = \"governing law shall be defined as\"\n",
    "test_submission.predict([txt.split()])"
   ]
  },
  {
   "cell_type": "code",
   "execution_count": null,
   "metadata": {},
   "outputs": [],
   "source": [
    "HTML(test_submission.predict(txt))"
   ]
  },
  {
   "cell_type": "markdown",
   "metadata": {},
   "source": [
    "## Leaderboard\n",
    "### View leaderboard\n",
    "http://www.goren4u.com/nlp_ner/\n",
    "\n",
    "### Submit your model"
   ]
  },
  {
   "cell_type": "code",
   "execution_count": null,
   "metadata": {},
   "outputs": [],
   "source": [
    "# may take some time\n",
    "test_submission.submit(test_folder='data/test_txt')"
   ]
  },
  {
   "cell_type": "markdown",
   "metadata": {},
   "source": [
    "## Metric for submission\n",
    "For each document `d` we calculate the ratio of correct predictions:\n",
    "$$score(d)=\\frac{|\\{l:l \\in Lines(d) , y_l=\\hat{y_l}\\}|}{|Lines(d)|}$$\n",
    "The total score is the average document score\n",
    "$$submission=avg_{d\\in test}(score(d))$$"
   ]
  }
 ],
 "metadata": {
  "kernelspec": {
   "display_name": "Python 3",
   "language": "python",
   "name": "python3"
  },
  "language_info": {
   "codemirror_mode": {
    "name": "ipython",
    "version": 3
   },
   "file_extension": ".py",
   "mimetype": "text/x-python",
   "name": "python",
   "nbconvert_exporter": "python",
   "pygments_lexer": "ipython3",
   "version": "3.6.7"
  }
 },
 "nbformat": 4,
 "nbformat_minor": 2
}
